{
 "cells": [
  {
   "cell_type": "code",
   "execution_count": 1,
   "id": "18f27b4e-7292-4d77-a48e-26a392f429c6",
   "metadata": {},
   "outputs": [],
   "source": [
    "import numpy as np\n",
    "import scipy.stats as stats\n",
    "import vectorbt as vbt\n",
    "import warnings\n",
    "warnings.filterwarnings('ignore')"
   ]
  },
  {
   "cell_type": "code",
   "execution_count": 2,
   "id": "fdd33bfd-18ef-4c0b-9def-640a1a641f69",
   "metadata": {},
   "outputs": [],
   "source": [
    "start = '2016-01-01 UTC'\n",
    "end = '2020-01-01 UTC'\n",
    "prices = vbt.YFData.download(\n",
    "    'AAPL',\n",
    "    start= start,\n",
    "    end= end\n",
    ").get('Close')"
   ]
  },
  {
   "cell_type": "code",
   "execution_count": 3,
   "id": "7c74a987-75f7-4edd-9069-a06df438a8bd",
   "metadata": {},
   "outputs": [
    {
     "data": {
      "application/vnd.jupyter.widget-view+json": {
       "model_id": "58c2213635444626b9bc6f09b6b90c8c",
       "version_major": 2,
       "version_minor": 0
      },
      "text/plain": [
       "FigureWidget({\n",
       "    'data': [{'colorscale': [[0.0, '#1f77b4'], [1.0, '#1f77b4']],\n",
       "              'hoverongaps': False,\n",
       "              'name': '0',\n",
       "              'showlegend': True,\n",
       "              'showscale': False,\n",
       "              'type': 'heatmap',\n",
       "              'uid': 'ec007eb0-a814-49ed-9d6a-b52aa93818fb',\n",
       "              'x': array([datetime.datetime(2016, 1, 4, 5, 0, tzinfo=datetime.timezone.utc),\n",
       "                          datetime.datetime(2016, 1, 5, 5, 0, tzinfo=datetime.timezone.utc),\n",
       "                          datetime.datetime(2016, 1, 6, 5, 0, tzinfo=datetime.timezone.utc), ...,\n",
       "                          datetime.datetime(2019, 12, 27, 5, 0, tzinfo=datetime.timezone.utc),\n",
       "                          datetime.datetime(2019, 12, 30, 5, 0, tzinfo=datetime.timezone.utc),\n",
       "                          datetime.datetime(2019, 12, 31, 5, 0, tzinfo=datetime.timezone.utc)],\n",
       "                         dtype=object),\n",
       "              'y': array([29, 28, 27, 26, 25, 24, 23, 22, 21, 20, 19, 18, 17, 16, 15, 14, 13, 12,\n",
       "                          11, 10,  9,  8,  7,  6,  5,  4,  3,  2,  1,  0], dtype=int64),\n",
       "              'z': array([[nan, nan, nan, ..., nan, nan, nan],\n",
       "                          [nan, nan, nan, ..., nan, nan, nan],\n",
       "                          [nan, nan, nan, ..., nan, nan, nan],\n",
       "                          ...,\n",
       "                          [nan, nan, nan, ..., nan, nan, nan],\n",
       "                          [nan, nan, nan, ..., nan, nan, nan],\n",
       "                          [ 0.,  0.,  0., ..., nan, nan, nan]])},\n",
       "             {'colorscale': [[0.0, '#ff7f0e'], [1.0, '#ff7f0e']],\n",
       "              'hoverongaps': False,\n",
       "              'name': '1',\n",
       "              'showlegend': True,\n",
       "              'showscale': False,\n",
       "              'type': 'heatmap',\n",
       "              'uid': '6ba547c1-f7b6-487d-b51b-472d2dab6a13',\n",
       "              'x': array([datetime.datetime(2016, 1, 4, 5, 0, tzinfo=datetime.timezone.utc),\n",
       "                          datetime.datetime(2016, 1, 5, 5, 0, tzinfo=datetime.timezone.utc),\n",
       "                          datetime.datetime(2016, 1, 6, 5, 0, tzinfo=datetime.timezone.utc), ...,\n",
       "                          datetime.datetime(2019, 12, 27, 5, 0, tzinfo=datetime.timezone.utc),\n",
       "                          datetime.datetime(2019, 12, 30, 5, 0, tzinfo=datetime.timezone.utc),\n",
       "                          datetime.datetime(2019, 12, 31, 5, 0, tzinfo=datetime.timezone.utc)],\n",
       "                         dtype=object),\n",
       "              'y': array([29, 28, 27, 26, 25, 24, 23, 22, 21, 20, 19, 18, 17, 16, 15, 14, 13, 12,\n",
       "                          11, 10,  9,  8,  7,  6,  5,  4,  3,  2,  1,  0], dtype=int64),\n",
       "              'z': array([[nan, nan, nan, ...,  1.,  1.,  1.],\n",
       "                          [nan, nan, nan, ..., nan, nan, nan],\n",
       "                          [nan, nan, nan, ..., nan, nan, nan],\n",
       "                          ...,\n",
       "                          [nan, nan, nan, ..., nan, nan, nan],\n",
       "                          [nan, nan, nan, ..., nan, nan, nan],\n",
       "                          [nan, nan, nan, ..., nan, nan, nan]])}],\n",
       "    'layout': {'height': 225,\n",
       "               'legend': {'orientation': 'h',\n",
       "                          'traceorder': 'normal',\n",
       "                          'x': 1,\n",
       "                          'xanchor': 'right',\n",
       "                          'y': 1.02,\n",
       "                          'yanchor': 'bottom'},\n",
       "               'margin': {'b': 30, 'l': 30, 'r': 30, 't': 30},\n",
       "               'template': '...',\n",
       "               'width': 700,\n",
       "               'yaxis': {'type': 'category'}}\n",
       "})"
      ]
     },
     "execution_count": 3,
     "metadata": {},
     "output_type": "execute_result"
    }
   ],
   "source": [
    "prices.vbt.rolling_split(\n",
    "    n= 30,\n",
    "    window_len= 365 * 2,\n",
    "    set_lens= (180,),\n",
    "    left_to_right= False,\n",
    "    plot= True\n",
    ")"
   ]
  },
  {
   "cell_type": "code",
   "execution_count": 25,
   "id": "8b004201-74b7-432c-ad8c-22afffc6e586",
   "metadata": {},
   "outputs": [],
   "source": [
    "(in_price, in_indexes), (out_price, out_indexes) = prices.vbt.rolling_split(\n",
    "    n= 30,\n",
    "    window_len= 365 * 2,\n",
    "    set_lens= (180,),\n",
    "    left_to_right= False,\n",
    ")"
   ]
  },
  {
   "cell_type": "code",
   "execution_count": 29,
   "id": "f0977c14-176c-4069-9345-acd0926d09b3",
   "metadata": {},
   "outputs": [],
   "source": [
    "def simulate_all_params(price, windows, **kwargs):\n",
    "    fast_ma, slow_ma = vbt.MA.run_combs(\n",
    "        price,\n",
    "        windows,\n",
    "        r=2,\n",
    "        short_names=['fast', 'slow']\n",
    "    )\n",
    "\n",
    "    entries = fast_ma.ma_crossed_above(slow_ma)\n",
    "    exits = fast_ma.ma_crossed_below(slow_ma)\n",
    "\n",
    "    pf = vbt.Portfolio.from_signals(price, entries, exits, **kwargs)\n",
    "    return pf.sharpe_ratio()\n",
    "\n",
    "def simulate_best_params(price, best_fast_windows, best_slow_windows, **kwargs):\n",
    "    fast_ma = vbt.MA.run(\n",
    "        price,\n",
    "        window= best_fast_windows,\n",
    "        per_column= True\n",
    "    )\n",
    "    slow_ma = vbt.MA.run(\n",
    "        price,\n",
    "        window= best_slow_windows,\n",
    "        per_column= True\n",
    "    )\n",
    "\n",
    "    entries = fast_ma.ma_crossed_above(slow_ma)\n",
    "    exits = fast_ma.ma_crossed_below(slow_ma)\n",
    "\n",
    "    pf = vbt.Portfolio.from_signals(price, entries, exits, **kwargs)\n",
    "    return pf.sharpe_ratio()\n"
   ]
  },
  {
   "cell_type": "code",
   "execution_count": 39,
   "id": "7f959ab9-a20b-4acb-82b9-c8a69fbd0b91",
   "metadata": {},
   "outputs": [],
   "source": [
    "def get_best_index(performance):\n",
    "    return performance[\n",
    "        performance.groupby('split_idx').idxmax()\n",
    "    ].index\n",
    "\n",
    "def get_best_params(best_index, level_name):\n",
    "    return best_index.get_level_values(level_name).to_numpy()"
   ]
  },
  {
   "cell_type": "code",
   "execution_count": 31,
   "id": "db3bb241-5231-41e0-bbff-c014db759d52",
   "metadata": {},
   "outputs": [],
   "source": [
    "in_sharpe = simulate_all_params(\n",
    "    in_price,\n",
    "    np.arange(10, 40),\n",
    "    direction= 'both',\n",
    "    freq= 'd'\n",
    ")"
   ]
  },
  {
   "cell_type": "code",
   "execution_count": 35,
   "id": "35568e48-5718-4999-ac47-5b1f89084af3",
   "metadata": {},
   "outputs": [
    {
     "data": {
      "application/vnd.jupyter.widget-view+json": {
       "model_id": "e34e1c72b80246a9bd46df46b54b9fb3",
       "version_major": 2,
       "version_minor": 0
      },
      "text/plain": [
       "FigureWidget({\n",
       "    'data': [{'name': 'sharpe_ratio',\n",
       "              'showlegend': True,\n",
       "              'type': 'scatter',\n",
       "              'uid': '0aab5a09-c3b9-4da8-af15-b09962ba5c59',\n",
       "              'x': [(10, 11, 0), (10, 11, 1), (10, 11, 2), ..., (38, 39, 27), (38,\n",
       "                    39, 28), (38, 39, 29)],\n",
       "              'y': array([ 1.48299287,  1.31566883,  1.3825954 , ..., -0.87532807, -0.8006507 ,\n",
       "                          -0.69530748])}],\n",
       "    'layout': {'height': 350,\n",
       "               'legend': {'orientation': 'h',\n",
       "                          'traceorder': 'normal',\n",
       "                          'x': 1,\n",
       "                          'xanchor': 'right',\n",
       "                          'y': 1.02,\n",
       "                          'yanchor': 'bottom'},\n",
       "               'margin': {'b': 30, 'l': 30, 'r': 30, 't': 30},\n",
       "               'template': '...',\n",
       "               'width': 700}\n",
       "})"
      ]
     },
     "execution_count": 35,
     "metadata": {},
     "output_type": "execute_result"
    }
   ],
   "source": [
    "in_sharpe.vbt.plot()"
   ]
  },
  {
   "cell_type": "code",
   "execution_count": 41,
   "id": "9bd54255-2299-433f-b221-0df3e45dfffc",
   "metadata": {},
   "outputs": [],
   "source": [
    "in_best_index = get_best_index(in_sharpe)\n",
    "\n",
    "in_best_fast_windows = get_best_params(\n",
    "    in_best_index,\n",
    "    'fast_window'\n",
    ")\n",
    "\n",
    "in_best_slow_windows = get_best_params(\n",
    "    in_best_index,\n",
    "    'slow_window'\n",
    ")\n",
    "\n",
    "in_best_window_pairs = np.array(\n",
    "    list(\n",
    "        zip(\n",
    "            in_best_fast_windows,\n",
    "            in_best_slow_windows\n",
    "        )\n",
    "    )\n",
    ")\n",
    "\n",
    "out_test_sharpe = simulate_best_params(\n",
    "    out_price,\n",
    "    in_best_fast_windows,\n",
    "    in_best_slow_windows,\n",
    "    direction= 'both',\n",
    "    freq= 'd'\n",
    ")"
   ]
  },
  {
   "cell_type": "code",
   "execution_count": 45,
   "id": "35320516-d99a-455e-bc14-dd40b08b4736",
   "metadata": {},
   "outputs": [
    {
     "name": "stdout",
     "output_type": "stream",
     "text": [
      "t-value = -1.084920983976103\n",
      "P-value = 0.8587771456189182\n"
     ]
    }
   ],
   "source": [
    "t, p = stats.ttest_ind(\n",
    "    a= out_test_sharpe.values,\n",
    "    b= in_sharpe[in_best_index].values,\n",
    "    alternative= 'greater'\n",
    ")\n",
    "print(f't-value = {t}') \n",
    "print(f'P-value = {p}') # P should be < 0.05 to be statistically significant"
   ]
  },
  {
   "cell_type": "code",
   "execution_count": null,
   "id": "fc81cc48-8680-4273-8ab2-2d00accf229c",
   "metadata": {},
   "outputs": [],
   "source": []
  }
 ],
 "metadata": {
  "kernelspec": {
   "display_name": "Python 3 (ipykernel)",
   "language": "python",
   "name": "python3"
  },
  "language_info": {
   "codemirror_mode": {
    "name": "ipython",
    "version": 3
   },
   "file_extension": ".py",
   "mimetype": "text/x-python",
   "name": "python",
   "nbconvert_exporter": "python",
   "pygments_lexer": "ipython3",
   "version": "3.12.4"
  }
 },
 "nbformat": 4,
 "nbformat_minor": 5
}
